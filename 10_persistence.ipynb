{
 "cells": [
  {
   "cell_type": "code",
   "execution_count": 3,
   "id": "147f570a",
   "metadata": {},
   "outputs": [],
   "source": [
    "from langgraph.graph import StateGraph, START, END\n",
    "from typing import TypedDict\n",
    "from langchain_google_genai import ChatGoogleGenerativeAI\n",
    "from dotenv import load_dotenv\n",
    "import os\n",
    "from langgraph.checkpoint.memory import InMemorySaver"
   ]
  },
  {
   "cell_type": "code",
   "execution_count": 4,
   "id": "f79e8bb3",
   "metadata": {},
   "outputs": [
    {
     "data": {
      "text/plain": [
       "True"
      ]
     },
     "execution_count": 4,
     "metadata": {},
     "output_type": "execute_result"
    }
   ],
   "source": [
    "load_dotenv()"
   ]
  },
  {
   "cell_type": "code",
   "execution_count": 6,
   "id": "fd6fac92",
   "metadata": {},
   "outputs": [],
   "source": [
    "llm = ChatGoogleGenerativeAI(\n",
    "    model=\"gemini-2.0-flash\",\n",
    "    google_api_key=os.getenv(\"GOOGLE_API_KEY\")\n",
    ")"
   ]
  },
  {
   "cell_type": "code",
   "execution_count": 7,
   "id": "7cdf6995",
   "metadata": {},
   "outputs": [],
   "source": [
    "class JokeState(TypedDict):\n",
    "\n",
    "    topic: str\n",
    "    joke: str\n",
    "    explanation: str"
   ]
  },
  {
   "cell_type": "code",
   "execution_count": 8,
   "id": "43036bf1",
   "metadata": {},
   "outputs": [],
   "source": [
    "def generate_joke(state: JokeState):\n",
    "\n",
    "    prompt = f'generate a joke on the topic {state[\"topic\"]}'\n",
    "    response = llm.invoke(prompt).content\n",
    "\n",
    "    return {'joke': response}"
   ]
  },
  {
   "cell_type": "code",
   "execution_count": 9,
   "id": "ac1da333",
   "metadata": {},
   "outputs": [],
   "source": [
    "def generate_explanation(state: JokeState):\n",
    "\n",
    "    prompt = f'write an explanation for the joke - {state[\"joke\"]}'\n",
    "    response = llm.invoke(prompt).content\n",
    "\n",
    "    return {'explanation': response}"
   ]
  },
  {
   "cell_type": "code",
   "execution_count": 10,
   "id": "a4fd7247",
   "metadata": {},
   "outputs": [],
   "source": [
    "graph = StateGraph(JokeState)\n",
    "\n",
    "graph.add_node('generate_joke', generate_joke)\n",
    "graph.add_node('generate_explanation', generate_explanation)\n",
    "\n",
    "graph.add_edge(START, 'generate_joke')\n",
    "graph.add_edge('generate_joke', 'generate_explanation')\n",
    "graph.add_edge('generate_explanation', END)\n",
    "\n",
    "checkpointer = InMemorySaver()\n",
    "\n",
    "workflow = graph.compile(checkpointer=checkpointer)"
   ]
  },
  {
   "cell_type": "code",
   "execution_count": 11,
   "id": "a4c1d24b",
   "metadata": {},
   "outputs": [
    {
     "data": {
      "text/plain": [
       "{'topic': 'pizza',\n",
       " 'joke': 'Why did the pizza maker quit his job?\\n\\nBecause he was tired of getting kneaded!',\n",
       " 'explanation': 'The joke \"Why did the pizza maker quit his job? Because he was tired of getting kneaded!\" is a pun based on the double meaning of the word \"kneaded.\"\\n\\n*   **Literal meaning:** In the context of pizza making, \"kneading\" refers to the process of working and stretching dough to develop gluten, which gives pizza its texture. A pizza maker literally kneads the dough.\\n\\n*   **Figurative meaning:** \"Kneaded\" can also be used figuratively to mean \"stressed\" or \"harassed.\" Someone who is constantly being asked to do things, or who is under a lot of pressure, might say they feel \"kneaded\" or \"pushed around.\"\\n\\nThe humor comes from the pizza maker being \"tired of getting kneaded\" in both senses of the word. He\\'s physically tired of the labor of kneading dough, but also figuratively tired of the pressure and demands of the job. The setup leads you to expect a serious reason for quitting, but the punchline uses wordplay to create a lighthearted and unexpected explanation.'}"
      ]
     },
     "execution_count": 11,
     "metadata": {},
     "output_type": "execute_result"
    }
   ],
   "source": [
    "config1 = {\"configurable\": {\"thread_id\": \"1\"}}\n",
    "workflow.invoke({'topic':'pizza'}, config=config1)"
   ]
  },
  {
   "cell_type": "code",
   "execution_count": 12,
   "id": "471d2081",
   "metadata": {},
   "outputs": [
    {
     "data": {
      "text/plain": [
       "StateSnapshot(values={'topic': 'pizza', 'joke': 'Why did the pizza maker quit his job?\\n\\nBecause he was tired of getting kneaded!', 'explanation': 'The joke \"Why did the pizza maker quit his job? Because he was tired of getting kneaded!\" is a pun based on the double meaning of the word \"kneaded.\"\\n\\n*   **Literal meaning:** In the context of pizza making, \"kneading\" refers to the process of working and stretching dough to develop gluten, which gives pizza its texture. A pizza maker literally kneads the dough.\\n\\n*   **Figurative meaning:** \"Kneaded\" can also be used figuratively to mean \"stressed\" or \"harassed.\" Someone who is constantly being asked to do things, or who is under a lot of pressure, might say they feel \"kneaded\" or \"pushed around.\"\\n\\nThe humor comes from the pizza maker being \"tired of getting kneaded\" in both senses of the word. He\\'s physically tired of the labor of kneading dough, but also figuratively tired of the pressure and demands of the job. The setup leads you to expect a serious reason for quitting, but the punchline uses wordplay to create a lighthearted and unexpected explanation.'}, next=(), config={'configurable': {'thread_id': '1', 'checkpoint_ns': '', 'checkpoint_id': '1f0886f2-f1a0-6755-8002-a72914d43cc1'}}, metadata={'source': 'loop', 'step': 2, 'parents': {}}, created_at='2025-09-03T02:39:16.146773+00:00', parent_config={'configurable': {'thread_id': '1', 'checkpoint_ns': '', 'checkpoint_id': '1f0886f2-dd25-66ee-8001-f64ac660dca0'}}, tasks=(), interrupts=())"
      ]
     },
     "execution_count": 12,
     "metadata": {},
     "output_type": "execute_result"
    }
   ],
   "source": [
    "workflow.get_state(config1)"
   ]
  },
  {
   "cell_type": "code",
   "execution_count": 13,
   "id": "a5b4bc82",
   "metadata": {},
   "outputs": [
    {
     "data": {
      "text/plain": [
       "[StateSnapshot(values={'topic': 'pizza', 'joke': 'Why did the pizza maker quit his job?\\n\\nBecause he was tired of getting kneaded!', 'explanation': 'The joke \"Why did the pizza maker quit his job? Because he was tired of getting kneaded!\" is a pun based on the double meaning of the word \"kneaded.\"\\n\\n*   **Literal meaning:** In the context of pizza making, \"kneading\" refers to the process of working and stretching dough to develop gluten, which gives pizza its texture. A pizza maker literally kneads the dough.\\n\\n*   **Figurative meaning:** \"Kneaded\" can also be used figuratively to mean \"stressed\" or \"harassed.\" Someone who is constantly being asked to do things, or who is under a lot of pressure, might say they feel \"kneaded\" or \"pushed around.\"\\n\\nThe humor comes from the pizza maker being \"tired of getting kneaded\" in both senses of the word. He\\'s physically tired of the labor of kneading dough, but also figuratively tired of the pressure and demands of the job. The setup leads you to expect a serious reason for quitting, but the punchline uses wordplay to create a lighthearted and unexpected explanation.'}, next=(), config={'configurable': {'thread_id': '1', 'checkpoint_ns': '', 'checkpoint_id': '1f0886f2-f1a0-6755-8002-a72914d43cc1'}}, metadata={'source': 'loop', 'step': 2, 'parents': {}}, created_at='2025-09-03T02:39:16.146773+00:00', parent_config={'configurable': {'thread_id': '1', 'checkpoint_ns': '', 'checkpoint_id': '1f0886f2-dd25-66ee-8001-f64ac660dca0'}}, tasks=(), interrupts=()),\n",
       " StateSnapshot(values={'topic': 'pizza', 'joke': 'Why did the pizza maker quit his job?\\n\\nBecause he was tired of getting kneaded!'}, next=('generate_explanation',), config={'configurable': {'thread_id': '1', 'checkpoint_ns': '', 'checkpoint_id': '1f0886f2-dd25-66ee-8001-f64ac660dca0'}}, metadata={'source': 'loop', 'step': 1, 'parents': {}}, created_at='2025-09-03T02:39:13.999230+00:00', parent_config={'configurable': {'thread_id': '1', 'checkpoint_ns': '', 'checkpoint_id': '1f0886f2-c8b2-6f9d-8000-bb46b00d05c5'}}, tasks=(PregelTask(id='2f6e47e4-03c6-8e89-d165-755dab12ca90', name='generate_explanation', path=('__pregel_pull', 'generate_explanation'), error=None, interrupts=(), state=None, result={'explanation': 'The joke \"Why did the pizza maker quit his job? Because he was tired of getting kneaded!\" is a pun based on the double meaning of the word \"kneaded.\"\\n\\n*   **Literal meaning:** In the context of pizza making, \"kneading\" refers to the process of working and stretching dough to develop gluten, which gives pizza its texture. A pizza maker literally kneads the dough.\\n\\n*   **Figurative meaning:** \"Kneaded\" can also be used figuratively to mean \"stressed\" or \"harassed.\" Someone who is constantly being asked to do things, or who is under a lot of pressure, might say they feel \"kneaded\" or \"pushed around.\"\\n\\nThe humor comes from the pizza maker being \"tired of getting kneaded\" in both senses of the word. He\\'s physically tired of the labor of kneading dough, but also figuratively tired of the pressure and demands of the job. The setup leads you to expect a serious reason for quitting, but the punchline uses wordplay to create a lighthearted and unexpected explanation.'}),), interrupts=()),\n",
       " StateSnapshot(values={'topic': 'pizza'}, next=('generate_joke',), config={'configurable': {'thread_id': '1', 'checkpoint_ns': '', 'checkpoint_id': '1f0886f2-c8b2-6f9d-8000-bb46b00d05c5'}}, metadata={'source': 'loop', 'step': 0, 'parents': {}}, created_at='2025-09-03T02:39:11.855196+00:00', parent_config={'configurable': {'thread_id': '1', 'checkpoint_ns': '', 'checkpoint_id': '1f0886f2-c8af-64dd-bfff-b1d28dc67964'}}, tasks=(PregelTask(id='fc270ff7-c947-a97b-c1c5-64c58c94693b', name='generate_joke', path=('__pregel_pull', 'generate_joke'), error=None, interrupts=(), state=None, result={'joke': 'Why did the pizza maker quit his job?\\n\\nBecause he was tired of getting kneaded!'}),), interrupts=()),\n",
       " StateSnapshot(values={}, next=('__start__',), config={'configurable': {'thread_id': '1', 'checkpoint_ns': '', 'checkpoint_id': '1f0886f2-c8af-64dd-bfff-b1d28dc67964'}}, metadata={'source': 'input', 'step': -1, 'parents': {}}, created_at='2025-09-03T02:39:11.853692+00:00', parent_config=None, tasks=(PregelTask(id='9b3b41d4-191a-0fb2-5f0a-52d37a2ee878', name='__start__', path=('__pregel_pull', '__start__'), error=None, interrupts=(), state=None, result={'topic': 'pizza'}),), interrupts=())]"
      ]
     },
     "execution_count": 13,
     "metadata": {},
     "output_type": "execute_result"
    }
   ],
   "source": [
    "list(workflow.get_state_history(config1))"
   ]
  },
  {
   "cell_type": "code",
   "execution_count": 15,
   "id": "c6b9a269",
   "metadata": {},
   "outputs": [
    {
     "data": {
      "text/plain": [
       "StateSnapshot(values={'topic': 'pizza', 'joke': 'Why did the pizza maker quit his job?\\n\\nBecause he was tired of getting kneaded!', 'explanation': 'The joke \"Why did the pizza maker quit his job? Because he was tired of getting kneaded!\" is a pun based on the double meaning of the word \"kneaded.\"\\n\\n*   **Literal meaning:** In the context of pizza making, \"kneading\" refers to the process of working and stretching dough to develop gluten, which gives pizza its texture. A pizza maker literally kneads the dough.\\n\\n*   **Figurative meaning:** \"Kneaded\" can also be used figuratively to mean \"stressed\" or \"harassed.\" Someone who is constantly being asked to do things, or who is under a lot of pressure, might say they feel \"kneaded\" or \"pushed around.\"\\n\\nThe humor comes from the pizza maker being \"tired of getting kneaded\" in both senses of the word. He\\'s physically tired of the labor of kneading dough, but also figuratively tired of the pressure and demands of the job. The setup leads you to expect a serious reason for quitting, but the punchline uses wordplay to create a lighthearted and unexpected explanation.'}, next=(), config={'configurable': {'thread_id': '1', 'checkpoint_ns': '', 'checkpoint_id': '1f0886f2-f1a0-6755-8002-a72914d43cc1'}}, metadata={'source': 'loop', 'step': 2, 'parents': {}}, created_at='2025-09-03T02:39:16.146773+00:00', parent_config={'configurable': {'thread_id': '1', 'checkpoint_ns': '', 'checkpoint_id': '1f0886f2-dd25-66ee-8001-f64ac660dca0'}}, tasks=(), interrupts=())"
      ]
     },
     "execution_count": 15,
     "metadata": {},
     "output_type": "execute_result"
    }
   ],
   "source": [
    "workflow.get_state(config1)"
   ]
  },
  {
   "cell_type": "code",
   "execution_count": 18,
   "id": "eee900d1",
   "metadata": {},
   "outputs": [
    {
     "data": {
      "text/plain": [
       "[StateSnapshot(values={'topic': 'pizza', 'joke': 'Why did the pizza maker quit his job?\\n\\nBecause he was tired of getting kneaded!', 'explanation': 'The joke \"Why did the pizza maker quit his job? Because he was tired of getting kneaded!\" is a pun based on the double meaning of the word \"kneaded.\"\\n\\n*   **Literal meaning:** In the context of pizza making, \"kneading\" refers to the process of working and stretching dough to develop gluten, which gives pizza its texture. A pizza maker literally kneads the dough.\\n\\n*   **Figurative meaning:** \"Kneaded\" can also be used figuratively to mean \"stressed\" or \"harassed.\" Someone who is constantly being asked to do things, or who is under a lot of pressure, might say they feel \"kneaded\" or \"pushed around.\"\\n\\nThe humor comes from the pizza maker being \"tired of getting kneaded\" in both senses of the word. He\\'s physically tired of the labor of kneading dough, but also figuratively tired of the pressure and demands of the job. The setup leads you to expect a serious reason for quitting, but the punchline uses wordplay to create a lighthearted and unexpected explanation.'}, next=(), config={'configurable': {'thread_id': '1', 'checkpoint_ns': '', 'checkpoint_id': '1f0886f2-f1a0-6755-8002-a72914d43cc1'}}, metadata={'source': 'loop', 'step': 2, 'parents': {}}, created_at='2025-09-03T02:39:16.146773+00:00', parent_config={'configurable': {'thread_id': '1', 'checkpoint_ns': '', 'checkpoint_id': '1f0886f2-dd25-66ee-8001-f64ac660dca0'}}, tasks=(), interrupts=()),\n",
       " StateSnapshot(values={'topic': 'pizza', 'joke': 'Why did the pizza maker quit his job?\\n\\nBecause he was tired of getting kneaded!'}, next=('generate_explanation',), config={'configurable': {'thread_id': '1', 'checkpoint_ns': '', 'checkpoint_id': '1f0886f2-dd25-66ee-8001-f64ac660dca0'}}, metadata={'source': 'loop', 'step': 1, 'parents': {}}, created_at='2025-09-03T02:39:13.999230+00:00', parent_config={'configurable': {'thread_id': '1', 'checkpoint_ns': '', 'checkpoint_id': '1f0886f2-c8b2-6f9d-8000-bb46b00d05c5'}}, tasks=(PregelTask(id='2f6e47e4-03c6-8e89-d165-755dab12ca90', name='generate_explanation', path=('__pregel_pull', 'generate_explanation'), error=None, interrupts=(), state=None, result={'explanation': 'The joke \"Why did the pizza maker quit his job? Because he was tired of getting kneaded!\" is a pun based on the double meaning of the word \"kneaded.\"\\n\\n*   **Literal meaning:** In the context of pizza making, \"kneading\" refers to the process of working and stretching dough to develop gluten, which gives pizza its texture. A pizza maker literally kneads the dough.\\n\\n*   **Figurative meaning:** \"Kneaded\" can also be used figuratively to mean \"stressed\" or \"harassed.\" Someone who is constantly being asked to do things, or who is under a lot of pressure, might say they feel \"kneaded\" or \"pushed around.\"\\n\\nThe humor comes from the pizza maker being \"tired of getting kneaded\" in both senses of the word. He\\'s physically tired of the labor of kneading dough, but also figuratively tired of the pressure and demands of the job. The setup leads you to expect a serious reason for quitting, but the punchline uses wordplay to create a lighthearted and unexpected explanation.'}),), interrupts=()),\n",
       " StateSnapshot(values={'topic': 'pizza'}, next=('generate_joke',), config={'configurable': {'thread_id': '1', 'checkpoint_ns': '', 'checkpoint_id': '1f0886f2-c8b2-6f9d-8000-bb46b00d05c5'}}, metadata={'source': 'loop', 'step': 0, 'parents': {}}, created_at='2025-09-03T02:39:11.855196+00:00', parent_config={'configurable': {'thread_id': '1', 'checkpoint_ns': '', 'checkpoint_id': '1f0886f2-c8af-64dd-bfff-b1d28dc67964'}}, tasks=(PregelTask(id='fc270ff7-c947-a97b-c1c5-64c58c94693b', name='generate_joke', path=('__pregel_pull', 'generate_joke'), error=None, interrupts=(), state=None, result={'joke': 'Why did the pizza maker quit his job?\\n\\nBecause he was tired of getting kneaded!'}),), interrupts=()),\n",
       " StateSnapshot(values={}, next=('__start__',), config={'configurable': {'thread_id': '1', 'checkpoint_ns': '', 'checkpoint_id': '1f0886f2-c8af-64dd-bfff-b1d28dc67964'}}, metadata={'source': 'input', 'step': -1, 'parents': {}}, created_at='2025-09-03T02:39:11.853692+00:00', parent_config=None, tasks=(PregelTask(id='9b3b41d4-191a-0fb2-5f0a-52d37a2ee878', name='__start__', path=('__pregel_pull', '__start__'), error=None, interrupts=(), state=None, result={'topic': 'pizza'}),), interrupts=())]"
      ]
     },
     "execution_count": 18,
     "metadata": {},
     "output_type": "execute_result"
    }
   ],
   "source": [
    "list(workflow.get_state_history(config1))"
   ]
  },
  {
   "cell_type": "markdown",
   "id": "15bc1c9c",
   "metadata": {},
   "source": [
    "## Time Travel"
   ]
  },
  {
   "cell_type": "code",
   "execution_count": 19,
   "id": "fb943260",
   "metadata": {},
   "outputs": [
    {
     "data": {
      "text/plain": [
       "StateSnapshot(values={}, next=(), config={'configurable': {'thread_id': '1', 'checkpoint_id': '1f06cc6e-7232-6cb1-8000-f71609e6cec5'}}, metadata=None, created_at=None, parent_config=None, tasks=(), interrupts=())"
      ]
     },
     "execution_count": 19,
     "metadata": {},
     "output_type": "execute_result"
    }
   ],
   "source": [
    "workflow.get_state({\"configurable\": {\"thread_id\": \"1\", \"checkpoint_id\": \"1f06cc6e-7232-6cb1-8000-f71609e6cec5\"}})"
   ]
  },
  {
   "cell_type": "code",
   "execution_count": 21,
   "id": "89b4083d",
   "metadata": {},
   "outputs": [],
   "source": [
    "# workflow.invoke(None, {\"configurable\": {\"thread_id\": \"1\", \"checkpoint_id\": \"1f06cc6e-7232-6cb1-8000-f71609e6cec5\"}})"
   ]
  },
  {
   "cell_type": "code",
   "execution_count": 22,
   "id": "ddce45fc",
   "metadata": {},
   "outputs": [
    {
     "data": {
      "text/plain": [
       "[StateSnapshot(values={'topic': 'pizza', 'joke': 'Why did the pizza maker quit his job?\\n\\nBecause he was tired of getting kneaded!', 'explanation': 'The joke \"Why did the pizza maker quit his job? Because he was tired of getting kneaded!\" is a pun based on the double meaning of the word \"kneaded.\"\\n\\n*   **Literal meaning:** In the context of pizza making, \"kneading\" refers to the process of working and stretching dough to develop gluten, which gives pizza its texture. A pizza maker literally kneads the dough.\\n\\n*   **Figurative meaning:** \"Kneaded\" can also be used figuratively to mean \"stressed\" or \"harassed.\" Someone who is constantly being asked to do things, or who is under a lot of pressure, might say they feel \"kneaded\" or \"pushed around.\"\\n\\nThe humor comes from the pizza maker being \"tired of getting kneaded\" in both senses of the word. He\\'s physically tired of the labor of kneading dough, but also figuratively tired of the pressure and demands of the job. The setup leads you to expect a serious reason for quitting, but the punchline uses wordplay to create a lighthearted and unexpected explanation.'}, next=(), config={'configurable': {'thread_id': '1', 'checkpoint_ns': '', 'checkpoint_id': '1f0886f2-f1a0-6755-8002-a72914d43cc1'}}, metadata={'source': 'loop', 'step': 2, 'parents': {}}, created_at='2025-09-03T02:39:16.146773+00:00', parent_config={'configurable': {'thread_id': '1', 'checkpoint_ns': '', 'checkpoint_id': '1f0886f2-dd25-66ee-8001-f64ac660dca0'}}, tasks=(), interrupts=()),\n",
       " StateSnapshot(values={'topic': 'pizza', 'joke': 'Why did the pizza maker quit his job?\\n\\nBecause he was tired of getting kneaded!'}, next=('generate_explanation',), config={'configurable': {'thread_id': '1', 'checkpoint_ns': '', 'checkpoint_id': '1f0886f2-dd25-66ee-8001-f64ac660dca0'}}, metadata={'source': 'loop', 'step': 1, 'parents': {}}, created_at='2025-09-03T02:39:13.999230+00:00', parent_config={'configurable': {'thread_id': '1', 'checkpoint_ns': '', 'checkpoint_id': '1f0886f2-c8b2-6f9d-8000-bb46b00d05c5'}}, tasks=(PregelTask(id='2f6e47e4-03c6-8e89-d165-755dab12ca90', name='generate_explanation', path=('__pregel_pull', 'generate_explanation'), error=None, interrupts=(), state=None, result={'explanation': 'The joke \"Why did the pizza maker quit his job? Because he was tired of getting kneaded!\" is a pun based on the double meaning of the word \"kneaded.\"\\n\\n*   **Literal meaning:** In the context of pizza making, \"kneading\" refers to the process of working and stretching dough to develop gluten, which gives pizza its texture. A pizza maker literally kneads the dough.\\n\\n*   **Figurative meaning:** \"Kneaded\" can also be used figuratively to mean \"stressed\" or \"harassed.\" Someone who is constantly being asked to do things, or who is under a lot of pressure, might say they feel \"kneaded\" or \"pushed around.\"\\n\\nThe humor comes from the pizza maker being \"tired of getting kneaded\" in both senses of the word. He\\'s physically tired of the labor of kneading dough, but also figuratively tired of the pressure and demands of the job. The setup leads you to expect a serious reason for quitting, but the punchline uses wordplay to create a lighthearted and unexpected explanation.'}),), interrupts=()),\n",
       " StateSnapshot(values={'topic': 'pizza'}, next=('generate_joke',), config={'configurable': {'thread_id': '1', 'checkpoint_ns': '', 'checkpoint_id': '1f0886f2-c8b2-6f9d-8000-bb46b00d05c5'}}, metadata={'source': 'loop', 'step': 0, 'parents': {}}, created_at='2025-09-03T02:39:11.855196+00:00', parent_config={'configurable': {'thread_id': '1', 'checkpoint_ns': '', 'checkpoint_id': '1f0886f2-c8af-64dd-bfff-b1d28dc67964'}}, tasks=(PregelTask(id='fc270ff7-c947-a97b-c1c5-64c58c94693b', name='generate_joke', path=('__pregel_pull', 'generate_joke'), error=None, interrupts=(), state=None, result={'joke': 'Why did the pizza maker quit his job?\\n\\nBecause he was tired of getting kneaded!'}),), interrupts=()),\n",
       " StateSnapshot(values={}, next=('__start__',), config={'configurable': {'thread_id': '1', 'checkpoint_ns': '', 'checkpoint_id': '1f0886f2-c8af-64dd-bfff-b1d28dc67964'}}, metadata={'source': 'input', 'step': -1, 'parents': {}}, created_at='2025-09-03T02:39:11.853692+00:00', parent_config=None, tasks=(PregelTask(id='9b3b41d4-191a-0fb2-5f0a-52d37a2ee878', name='__start__', path=('__pregel_pull', '__start__'), error=None, interrupts=(), state=None, result={'topic': 'pizza'}),), interrupts=())]"
      ]
     },
     "execution_count": 22,
     "metadata": {},
     "output_type": "execute_result"
    }
   ],
   "source": [
    "list(workflow.get_state_history(config1))"
   ]
  },
  {
   "cell_type": "markdown",
   "id": "bb36dd8e",
   "metadata": {},
   "source": [
    "## Updating State"
   ]
  },
  {
   "cell_type": "code",
   "execution_count": 23,
   "id": "99dd9ec8",
   "metadata": {},
   "outputs": [
    {
     "data": {
      "text/plain": [
       "{'configurable': {'thread_id': '1',\n",
       "  'checkpoint_ns': '',\n",
       "  'checkpoint_id': '1f088718-ff7e-6660-8000-74b2a9fde065'}}"
      ]
     },
     "execution_count": 23,
     "metadata": {},
     "output_type": "execute_result"
    }
   ],
   "source": [
    "workflow.update_state({\"configurable\": {\"thread_id\": \"1\", \"checkpoint_id\": \"1f06cc6e-7232-6cb1-8000-f71609e6cec5\", \"checkpoint_ns\": \"\"}}, {'topic':'samosa'})"
   ]
  },
  {
   "cell_type": "code",
   "execution_count": 24,
   "id": "f5458b1d",
   "metadata": {},
   "outputs": [
    {
     "data": {
      "text/plain": [
       "[StateSnapshot(values={'topic': 'samosa'}, next=('generate_joke',), config={'configurable': {'thread_id': '1', 'checkpoint_ns': '', 'checkpoint_id': '1f088718-ff7e-6660-8000-74b2a9fde065'}}, metadata={'source': 'update', 'step': 0, 'parents': {}}, created_at='2025-09-03T02:56:17.655561+00:00', parent_config={'configurable': {'thread_id': '1', 'checkpoint_ns': '', 'checkpoint_id': '1f06cc6e-7232-6cb1-8000-f71609e6cec5'}}, tasks=(PregelTask(id='552c9fbf-49ff-aa01-cad3-5b74c5a41cd6', name='generate_joke', path=('__pregel_pull', 'generate_joke'), error=None, interrupts=(), state=None, result=None),), interrupts=()),\n",
       " StateSnapshot(values={'topic': 'pizza', 'joke': 'Why did the pizza maker quit his job?\\n\\nBecause he was tired of getting kneaded!', 'explanation': 'The joke \"Why did the pizza maker quit his job? Because he was tired of getting kneaded!\" is a pun based on the double meaning of the word \"kneaded.\"\\n\\n*   **Literal meaning:** In the context of pizza making, \"kneading\" refers to the process of working and stretching dough to develop gluten, which gives pizza its texture. A pizza maker literally kneads the dough.\\n\\n*   **Figurative meaning:** \"Kneaded\" can also be used figuratively to mean \"stressed\" or \"harassed.\" Someone who is constantly being asked to do things, or who is under a lot of pressure, might say they feel \"kneaded\" or \"pushed around.\"\\n\\nThe humor comes from the pizza maker being \"tired of getting kneaded\" in both senses of the word. He\\'s physically tired of the labor of kneading dough, but also figuratively tired of the pressure and demands of the job. The setup leads you to expect a serious reason for quitting, but the punchline uses wordplay to create a lighthearted and unexpected explanation.'}, next=(), config={'configurable': {'thread_id': '1', 'checkpoint_ns': '', 'checkpoint_id': '1f0886f2-f1a0-6755-8002-a72914d43cc1'}}, metadata={'source': 'loop', 'step': 2, 'parents': {}}, created_at='2025-09-03T02:39:16.146773+00:00', parent_config={'configurable': {'thread_id': '1', 'checkpoint_ns': '', 'checkpoint_id': '1f0886f2-dd25-66ee-8001-f64ac660dca0'}}, tasks=(), interrupts=()),\n",
       " StateSnapshot(values={'topic': 'pizza', 'joke': 'Why did the pizza maker quit his job?\\n\\nBecause he was tired of getting kneaded!'}, next=('generate_explanation',), config={'configurable': {'thread_id': '1', 'checkpoint_ns': '', 'checkpoint_id': '1f0886f2-dd25-66ee-8001-f64ac660dca0'}}, metadata={'source': 'loop', 'step': 1, 'parents': {}}, created_at='2025-09-03T02:39:13.999230+00:00', parent_config={'configurable': {'thread_id': '1', 'checkpoint_ns': '', 'checkpoint_id': '1f0886f2-c8b2-6f9d-8000-bb46b00d05c5'}}, tasks=(PregelTask(id='2f6e47e4-03c6-8e89-d165-755dab12ca90', name='generate_explanation', path=('__pregel_pull', 'generate_explanation'), error=None, interrupts=(), state=None, result={'explanation': 'The joke \"Why did the pizza maker quit his job? Because he was tired of getting kneaded!\" is a pun based on the double meaning of the word \"kneaded.\"\\n\\n*   **Literal meaning:** In the context of pizza making, \"kneading\" refers to the process of working and stretching dough to develop gluten, which gives pizza its texture. A pizza maker literally kneads the dough.\\n\\n*   **Figurative meaning:** \"Kneaded\" can also be used figuratively to mean \"stressed\" or \"harassed.\" Someone who is constantly being asked to do things, or who is under a lot of pressure, might say they feel \"kneaded\" or \"pushed around.\"\\n\\nThe humor comes from the pizza maker being \"tired of getting kneaded\" in both senses of the word. He\\'s physically tired of the labor of kneading dough, but also figuratively tired of the pressure and demands of the job. The setup leads you to expect a serious reason for quitting, but the punchline uses wordplay to create a lighthearted and unexpected explanation.'}),), interrupts=()),\n",
       " StateSnapshot(values={'topic': 'pizza'}, next=('generate_joke',), config={'configurable': {'thread_id': '1', 'checkpoint_ns': '', 'checkpoint_id': '1f0886f2-c8b2-6f9d-8000-bb46b00d05c5'}}, metadata={'source': 'loop', 'step': 0, 'parents': {}}, created_at='2025-09-03T02:39:11.855196+00:00', parent_config={'configurable': {'thread_id': '1', 'checkpoint_ns': '', 'checkpoint_id': '1f0886f2-c8af-64dd-bfff-b1d28dc67964'}}, tasks=(PregelTask(id='fc270ff7-c947-a97b-c1c5-64c58c94693b', name='generate_joke', path=('__pregel_pull', 'generate_joke'), error=None, interrupts=(), state=None, result={'joke': 'Why did the pizza maker quit his job?\\n\\nBecause he was tired of getting kneaded!'}),), interrupts=()),\n",
       " StateSnapshot(values={}, next=('__start__',), config={'configurable': {'thread_id': '1', 'checkpoint_ns': '', 'checkpoint_id': '1f0886f2-c8af-64dd-bfff-b1d28dc67964'}}, metadata={'source': 'input', 'step': -1, 'parents': {}}, created_at='2025-09-03T02:39:11.853692+00:00', parent_config=None, tasks=(PregelTask(id='9b3b41d4-191a-0fb2-5f0a-52d37a2ee878', name='__start__', path=('__pregel_pull', '__start__'), error=None, interrupts=(), state=None, result={'topic': 'pizza'}),), interrupts=())]"
      ]
     },
     "execution_count": 24,
     "metadata": {},
     "output_type": "execute_result"
    }
   ],
   "source": [
    "list(workflow.get_state_history(config1))"
   ]
  },
  {
   "cell_type": "code",
   "execution_count": 26,
   "id": "26b76812",
   "metadata": {},
   "outputs": [],
   "source": [
    "# workflow.invoke(None, {\"configurable\": {\"thread_id\": \"1\", \"checkpoint_id\": \"1f06cc72-ca16-6359-8001-7eea05e07dd2\"}})"
   ]
  },
  {
   "cell_type": "code",
   "execution_count": 27,
   "id": "52ffa969",
   "metadata": {},
   "outputs": [
    {
     "data": {
      "text/plain": [
       "[StateSnapshot(values={'topic': 'samosa'}, next=('generate_joke',), config={'configurable': {'thread_id': '1', 'checkpoint_ns': '', 'checkpoint_id': '1f088718-ff7e-6660-8000-74b2a9fde065'}}, metadata={'source': 'update', 'step': 0, 'parents': {}}, created_at='2025-09-03T02:56:17.655561+00:00', parent_config={'configurable': {'thread_id': '1', 'checkpoint_ns': '', 'checkpoint_id': '1f06cc6e-7232-6cb1-8000-f71609e6cec5'}}, tasks=(PregelTask(id='552c9fbf-49ff-aa01-cad3-5b74c5a41cd6', name='generate_joke', path=('__pregel_pull', 'generate_joke'), error=None, interrupts=(), state=None, result=None),), interrupts=()),\n",
       " StateSnapshot(values={'topic': 'pizza', 'joke': 'Why did the pizza maker quit his job?\\n\\nBecause he was tired of getting kneaded!', 'explanation': 'The joke \"Why did the pizza maker quit his job? Because he was tired of getting kneaded!\" is a pun based on the double meaning of the word \"kneaded.\"\\n\\n*   **Literal meaning:** In the context of pizza making, \"kneading\" refers to the process of working and stretching dough to develop gluten, which gives pizza its texture. A pizza maker literally kneads the dough.\\n\\n*   **Figurative meaning:** \"Kneaded\" can also be used figuratively to mean \"stressed\" or \"harassed.\" Someone who is constantly being asked to do things, or who is under a lot of pressure, might say they feel \"kneaded\" or \"pushed around.\"\\n\\nThe humor comes from the pizza maker being \"tired of getting kneaded\" in both senses of the word. He\\'s physically tired of the labor of kneading dough, but also figuratively tired of the pressure and demands of the job. The setup leads you to expect a serious reason for quitting, but the punchline uses wordplay to create a lighthearted and unexpected explanation.'}, next=(), config={'configurable': {'thread_id': '1', 'checkpoint_ns': '', 'checkpoint_id': '1f0886f2-f1a0-6755-8002-a72914d43cc1'}}, metadata={'source': 'loop', 'step': 2, 'parents': {}}, created_at='2025-09-03T02:39:16.146773+00:00', parent_config={'configurable': {'thread_id': '1', 'checkpoint_ns': '', 'checkpoint_id': '1f0886f2-dd25-66ee-8001-f64ac660dca0'}}, tasks=(), interrupts=()),\n",
       " StateSnapshot(values={'topic': 'pizza', 'joke': 'Why did the pizza maker quit his job?\\n\\nBecause he was tired of getting kneaded!'}, next=('generate_explanation',), config={'configurable': {'thread_id': '1', 'checkpoint_ns': '', 'checkpoint_id': '1f0886f2-dd25-66ee-8001-f64ac660dca0'}}, metadata={'source': 'loop', 'step': 1, 'parents': {}}, created_at='2025-09-03T02:39:13.999230+00:00', parent_config={'configurable': {'thread_id': '1', 'checkpoint_ns': '', 'checkpoint_id': '1f0886f2-c8b2-6f9d-8000-bb46b00d05c5'}}, tasks=(PregelTask(id='2f6e47e4-03c6-8e89-d165-755dab12ca90', name='generate_explanation', path=('__pregel_pull', 'generate_explanation'), error=None, interrupts=(), state=None, result={'explanation': 'The joke \"Why did the pizza maker quit his job? Because he was tired of getting kneaded!\" is a pun based on the double meaning of the word \"kneaded.\"\\n\\n*   **Literal meaning:** In the context of pizza making, \"kneading\" refers to the process of working and stretching dough to develop gluten, which gives pizza its texture. A pizza maker literally kneads the dough.\\n\\n*   **Figurative meaning:** \"Kneaded\" can also be used figuratively to mean \"stressed\" or \"harassed.\" Someone who is constantly being asked to do things, or who is under a lot of pressure, might say they feel \"kneaded\" or \"pushed around.\"\\n\\nThe humor comes from the pizza maker being \"tired of getting kneaded\" in both senses of the word. He\\'s physically tired of the labor of kneading dough, but also figuratively tired of the pressure and demands of the job. The setup leads you to expect a serious reason for quitting, but the punchline uses wordplay to create a lighthearted and unexpected explanation.'}),), interrupts=()),\n",
       " StateSnapshot(values={'topic': 'pizza'}, next=('generate_joke',), config={'configurable': {'thread_id': '1', 'checkpoint_ns': '', 'checkpoint_id': '1f0886f2-c8b2-6f9d-8000-bb46b00d05c5'}}, metadata={'source': 'loop', 'step': 0, 'parents': {}}, created_at='2025-09-03T02:39:11.855196+00:00', parent_config={'configurable': {'thread_id': '1', 'checkpoint_ns': '', 'checkpoint_id': '1f0886f2-c8af-64dd-bfff-b1d28dc67964'}}, tasks=(PregelTask(id='fc270ff7-c947-a97b-c1c5-64c58c94693b', name='generate_joke', path=('__pregel_pull', 'generate_joke'), error=None, interrupts=(), state=None, result={'joke': 'Why did the pizza maker quit his job?\\n\\nBecause he was tired of getting kneaded!'}),), interrupts=()),\n",
       " StateSnapshot(values={}, next=('__start__',), config={'configurable': {'thread_id': '1', 'checkpoint_ns': '', 'checkpoint_id': '1f0886f2-c8af-64dd-bfff-b1d28dc67964'}}, metadata={'source': 'input', 'step': -1, 'parents': {}}, created_at='2025-09-03T02:39:11.853692+00:00', parent_config=None, tasks=(PregelTask(id='9b3b41d4-191a-0fb2-5f0a-52d37a2ee878', name='__start__', path=('__pregel_pull', '__start__'), error=None, interrupts=(), state=None, result={'topic': 'pizza'}),), interrupts=())]"
      ]
     },
     "execution_count": 27,
     "metadata": {},
     "output_type": "execute_result"
    }
   ],
   "source": [
    "list(workflow.get_state_history(config1))"
   ]
  },
  {
   "cell_type": "markdown",
   "id": "5e4ff5c4",
   "metadata": {},
   "source": [
    "## Fault Tolerance"
   ]
  },
  {
   "cell_type": "code",
   "execution_count": 28,
   "id": "63dc21d2",
   "metadata": {},
   "outputs": [],
   "source": [
    "from langgraph.graph import StateGraph, END\n",
    "from langgraph.checkpoint.memory import InMemorySaver\n",
    "from typing import TypedDict\n",
    "import time"
   ]
  },
  {
   "cell_type": "code",
   "execution_count": 29,
   "id": "7812ddb8",
   "metadata": {},
   "outputs": [],
   "source": [
    "# 1. Define the state\n",
    "class CrashState(TypedDict):\n",
    "    input: str\n",
    "    step1: str\n",
    "    step2: str"
   ]
  },
  {
   "cell_type": "code",
   "execution_count": 30,
   "id": "cbf52b3b",
   "metadata": {},
   "outputs": [],
   "source": [
    "# 2. Define steps\n",
    "def step_1(state: CrashState) -> CrashState:\n",
    "    print(\"✅ Step 1 executed\")\n",
    "    return {\"step1\": \"done\", \"input\": state[\"input\"]}\n",
    "\n",
    "def step_2(state: CrashState) -> CrashState:\n",
    "    print(\"⏳ Step 2 hanging... now manually interrupt from the notebook toolbar (STOP button)\")\n",
    "    time.sleep(1000)  # Simulate long-running hang\n",
    "    return {\"step2\": \"done\"}\n",
    "\n",
    "def step_3(state: CrashState) -> CrashState:\n",
    "    print(\"✅ Step 3 executed\")\n",
    "    return {\"done\": True}"
   ]
  },
  {
   "cell_type": "code",
   "execution_count": 31,
   "id": "c9d3e780",
   "metadata": {},
   "outputs": [],
   "source": [
    "# 3. Build the graph\n",
    "builder = StateGraph(CrashState)\n",
    "builder.add_node(\"step_1\", step_1)\n",
    "builder.add_node(\"step_2\", step_2)\n",
    "builder.add_node(\"step_3\", step_3)\n",
    "\n",
    "builder.set_entry_point(\"step_1\")\n",
    "builder.add_edge(\"step_1\", \"step_2\")\n",
    "builder.add_edge(\"step_2\", \"step_3\")\n",
    "builder.add_edge(\"step_3\", END)\n",
    "\n",
    "checkpointer = InMemorySaver()\n",
    "graph = builder.compile(checkpointer=checkpointer)"
   ]
  },
  {
   "cell_type": "code",
   "execution_count": null,
   "id": "108671e3",
   "metadata": {},
   "outputs": [
    {
     "name": "stdout",
     "output_type": "stream",
     "text": [
      "▶️ Running graph: Please manually interrupt during Step 2...\n",
      "✅ Step 1 executed\n",
      "⏳ Step 2 hanging... now manually interrupt from the notebook toolbar (STOP button)\n"
     ]
    }
   ],
   "source": [
    "try:\n",
    "    print(\"▶️ Running graph: Please manually interrupt during Step 2...\")\n",
    "    graph.invoke({\"input\": \"start\"}, config={\"configurable\": {\"thread_id\": 'thread-1'}})\n",
    "except KeyboardInterrupt:\n",
    "    print(\"❌ Kernel manually interrupted (crash simulated).\")"
   ]
  },
  {
   "cell_type": "code",
   "execution_count": null,
   "id": "6dc339bf",
   "metadata": {},
   "outputs": [],
   "source": [
    "# 6. Re-run to show fault-tolerant resume\n",
    "print(\"\\n🔁 Re-running the graph to demonstrate fault tolerance...\")\n",
    "final_state = graph.invoke(None, config={\"configurable\": {\"thread_id\": 'thread-1'}})\n",
    "print(\"\\n✅ Final State:\", final_state)"
   ]
  },
  {
   "cell_type": "code",
   "execution_count": null,
   "id": "7e365ae3",
   "metadata": {},
   "outputs": [],
   "source": [
    "list(graph.get_state_history({\"configurable\": {\"thread_id\": 'thread-1'}}))"
   ]
  },
  {
   "cell_type": "code",
   "execution_count": null,
   "id": "05cd57c9",
   "metadata": {},
   "outputs": [],
   "source": []
  }
 ],
 "metadata": {
  "kernelspec": {
   "display_name": ".venv (3.11.0)",
   "language": "python",
   "name": "python3"
  },
  "language_info": {
   "codemirror_mode": {
    "name": "ipython",
    "version": 3
   },
   "file_extension": ".py",
   "mimetype": "text/x-python",
   "name": "python",
   "nbconvert_exporter": "python",
   "pygments_lexer": "ipython3",
   "version": "3.11.0"
  }
 },
 "nbformat": 4,
 "nbformat_minor": 5
}
