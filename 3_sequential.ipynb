{
 "cells": [
  {
   "cell_type": "code",
   "execution_count": 13,
   "id": "47631c26",
   "metadata": {},
   "outputs": [],
   "source": [
    "from langgraph.graph import StateGraph, START, END\n",
    "from langchain_google_genai import ChatGoogleGenerativeAI\n",
    "from typing import TypedDict\n",
    "from dotenv import load_dotenv\n",
    "import os"
   ]
  },
  {
   "cell_type": "code",
   "execution_count": 14,
   "id": "4a8330a8",
   "metadata": {},
   "outputs": [],
   "source": [
    "load_dotenv()\n",
    "\n",
    "model = ChatGoogleGenerativeAI(\n",
    "    model=\"gemini-2.0-flash\",\n",
    "    google_api_key=os.getenv(\"GOOGLE_API_KEY\")\n",
    ")"
   ]
  },
  {
   "cell_type": "code",
   "execution_count": 15,
   "id": "c5fe6747",
   "metadata": {},
   "outputs": [],
   "source": [
    "class BlogState(TypedDict):\n",
    "\n",
    "    title: str\n",
    "    outline: str\n",
    "    content: str"
   ]
  },
  {
   "cell_type": "code",
   "execution_count": 16,
   "id": "a6a2b424",
   "metadata": {},
   "outputs": [],
   "source": [
    "def create_outline(state: BlogState) -> BlogState:\n",
    "\n",
    "    # fetch title\n",
    "    title = state['title']\n",
    "\n",
    "    # call llm gen outline\n",
    "    prompt = f'Generate a detailed outline for a blog on the topic - {title}'\n",
    "    outline = model.invoke(prompt).content\n",
    "\n",
    "    # update state\n",
    "    state['outline'] = outline\n",
    "\n",
    "    return state"
   ]
  },
  {
   "cell_type": "code",
   "execution_count": 17,
   "id": "2799fe92",
   "metadata": {},
   "outputs": [],
   "source": [
    "def create_blog(state: BlogState) -> BlogState:\n",
    "\n",
    "    title = state['title']\n",
    "    outline = state['outline']\n",
    "\n",
    "    prompt = f'Write a detailed blog on the title - {title} using the follwing outline \\n {outline}'\n",
    "\n",
    "    content = model.invoke(prompt).content\n",
    "\n",
    "    state['content'] = content\n",
    "\n",
    "    return state"
   ]
  },
  {
   "cell_type": "code",
   "execution_count": 18,
   "id": "f33270d3",
   "metadata": {},
   "outputs": [],
   "source": [
    "graph = StateGraph(BlogState)\n",
    "\n",
    "# nodes\n",
    "graph.add_node('create_outline', create_outline)\n",
    "graph.add_node('create_blog', create_blog)\n",
    "\n",
    "# edges\n",
    "graph.add_edge(START, 'create_outline')\n",
    "graph.add_edge('create_outline', 'create_blog')\n",
    "graph.add_edge('create_blog', END)\n",
    "\n",
    "workflow = graph.compile()"
   ]
  },
  {
   "cell_type": "code",
   "execution_count": 19,
   "id": "f8c97736",
   "metadata": {},
   "outputs": [
    {
     "name": "stdout",
     "output_type": "stream",
     "text": [
      "{'title': 'Rise of AI in India', 'outline': '## Blog Outline: Rise of AI in India\\n\\n**I. Introduction (Hook & Context - ~150 words)**\\n\\n   *   **A. Hook:** Start with a compelling statistic, anecdote, or question that grabs the reader\\'s attention.  Examples:\\n        *   \"India is poised to become a global AI powerhouse, but are we ready?\"\\n        *   \"Imagine a future where AI-powered solutions revolutionize Indian agriculture, healthcare, and education. That future is closer than you think.\"\\n        *   \"By 2030, AI could contribute X% to India\\'s GDP.  But what are the key drivers and challenges?\"\\n   *   **B. Briefly Define AI:**  A simple and accessible definition of Artificial Intelligence, avoiding technical jargon.\\n   *   **C. Thesis Statement:** Clearly state the blog\\'s main argument.  Example: \"India is experiencing a rapid rise in AI adoption, driven by a confluence of factors including government initiatives, a burgeoning tech talent pool, and the potential to address pressing societal challenges, but significant hurdles remain in ensuring equitable access and responsible deployment.\"\\n   *   **D. Blog Overview:** Briefly outline the topics that will be covered in the blog post.\\n\\n**II. Key Drivers of AI Growth in India (~300 words)**\\n\\n   *   **A. Government Initiatives & Policies:**\\n        *   National Strategy for Artificial Intelligence (NITI Aayog\\'s approach)\\n        *   AI missions and funding programs\\n        *   Data protection bill and its implications for AI development\\n        *   Government support for AI research and development\\n   *   **B. Thriving Tech Talent Pool:**\\n        *   Abundance of STEM graduates and engineers\\n        *   Growing number of AI-focused courses and training programs\\n        *   Increasing presence of global tech companies and their AI initiatives in India\\n        *   Role of Indian diaspora in contributing to AI expertise\\n   *   **C. Data Availability & Digital Infrastructure:**\\n        *   Massive data generation due to India\\'s large population and increasing internet penetration\\n        *   Growth of cloud computing and data storage infrastructure\\n        *   Development of 5G networks and improved connectivity\\n        *   Challenges related to data quality, accessibility, and privacy\\n   *   **D. Addressing Societal Challenges:**\\n        *   AI\\'s potential to improve healthcare access and affordability\\n        *   Applications of AI in agriculture for increased productivity and sustainability\\n        *   Use of AI in education to personalize learning and improve outcomes\\n        *   AI-powered solutions for smart cities and infrastructure management\\n\\n**III. AI Applications Across Key Sectors in India (~400 words)**\\n\\n   *   **A. Healthcare:**\\n        *   AI-powered diagnostics and personalized treatment plans\\n        *   Drug discovery and development using AI\\n        *   Remote patient monitoring and telehealth solutions\\n        *   Examples of successful AI implementations in Indian healthcare\\n   *   **B. Agriculture:**\\n        *   Precision farming using AI-powered sensors and analytics\\n        *   Crop yield prediction and disease detection\\n        *   AI-driven irrigation and water management\\n        *   Market access and price forecasting for farmers\\n   *   **C. Finance:**\\n        *   AI-powered fraud detection and risk management\\n        *   Personalized financial advice and robo-advisors\\n        *   Automated customer service and chatbots\\n        *   AI in banking and insurance sectors\\n   *   **D. Manufacturing:**\\n        *   Predictive maintenance and process optimization\\n        *   Robotics and automation in manufacturing plants\\n        *   Quality control and defect detection using AI\\n        *   Supply chain management and logistics optimization\\n   *   **E. Education:**\\n        *   Personalized learning platforms and adaptive assessments\\n        *   AI-powered tutoring and feedback systems\\n        *   Automated grading and administrative tasks\\n        *   Accessibility solutions for students with disabilities\\n\\n**IV. Challenges and Concerns (~300 words)**\\n\\n   *   **A. Ethical Considerations:**\\n        *   Bias in AI algorithms and potential for discrimination\\n        *   Data privacy and security concerns\\n        *   Transparency and explainability of AI systems\\n        *   Need for ethical guidelines and regulations\\n   *   **B. Skill Gap and Talent Shortage:**\\n        *   Demand for skilled AI professionals exceeding supply\\n        *   Need for reskilling and upskilling the workforce\\n        *   Attracting and retaining top AI talent in India\\n        *   Importance of collaboration between academia and industry\\n   *   **C. Infrastructure Limitations:**\\n        *   Uneven access to internet and computing resources\\n        *   Need for robust data infrastructure and cybersecurity\\n        *   Addressing digital divide and ensuring equitable access to AI benefits\\n   *   **D. Job Displacement Concerns:**\\n        *   Potential for automation to displace jobs in certain sectors\\n        *   Need for proactive measures to mitigate job losses and create new opportunities\\n        *   Investing in education and training programs to prepare the workforce for the future\\n\\n**V. The Future of AI in India (~250 words)**\\n\\n   *   **A. Potential for Growth and Innovation:**\\n        *   India\\'s potential to become a global AI hub\\n        *   Emerging trends in AI research and development\\n        *   Opportunities for startups and entrepreneurs in the AI space\\n   *   **B. Impact on Society and Economy:**\\n        *   Transformative impact of AI on various sectors\\n        *   Contribution of AI to India\\'s economic growth and development\\n        *   Role of AI in addressing societal challenges and improving quality of life\\n   *   **C. Call to Action:**\\n        *   Encourage readers to learn more about AI and its potential\\n        *   Promote responsible and ethical AI development and deployment\\n        *   Emphasize the importance of collaboration and innovation in the AI ecosystem\\n\\n**VI. Conclusion (Recap & Final Thoughts - ~100 words)**\\n\\n   *   **A. Summarize Key Points:** Briefly reiterate the main arguments of the blog post.\\n   *   **B. Reinforce the Thesis Statement:** Re-emphasize the importance of AI in India\\'s future.\\n   *   **C. Leave the Reader with a Thought-Provoking Statement:** End with a forward-looking statement that encourages further discussion and exploration. Example: \"The rise of AI in India presents both immense opportunities and significant challenges.  Our ability to navigate these complexities will determine whether we can harness the full potential of AI to build a more inclusive, prosperous, and sustainable future.\"\\n\\n**VII. Optional Elements:**\\n\\n*   **Images/Videos:** Incorporate relevant visuals to enhance engagement.\\n*   **Infographics:**  Present data and statistics in an easy-to-understand format.\\n*   **Links to Resources:** Provide links to relevant articles, reports, and websites.\\n*   **Call to Action (within the blog):**  Encourage readers to subscribe, share, or comment.\\n*   **Expert Quotes (if available):** Add credibility and insights from industry leaders.\\n\\nThis outline provides a solid framework for writing a comprehensive and engaging blog post about the rise of AI in India. Remember to adapt it to your specific audience and writing style. Good luck!', 'content': \"## The Rise of AI in India: A Nation Poised for Transformation\\n\\n**I. Introduction (Hook & Context)**\\n\\nImagine a future where AI-powered robots assist surgeons in complex operations in rural India, or where personalized learning platforms cater to each student's unique needs, regardless of their location or socioeconomic background. This isn't a scene from a science fiction movie; it's a glimpse into the potential future being shaped by the rapid rise of Artificial Intelligence (AI) in India. By 2035, AI is projected to add a staggering $967 billion to India's GDP. But are we truly prepared to harness this transformative technology responsibly and equitably?\\n\\nArtificial Intelligence, in its simplest form, refers to the ability of machines to perform tasks that typically require human intelligence, such as learning, problem-solving, and decision-making. This blog explores the factors driving the burgeoning AI landscape in India, from government initiatives and a talented workforce to the vast potential for addressing societal challenges. However, it also acknowledges the significant hurdles that remain in ensuring equitable access, ethical deployment, and responsible development of AI.\\n\\nThis blog post will delve into the key drivers fueling AI growth in India, explore its applications across various sectors, address the ethical and societal concerns, and offer a glimpse into the future of AI in the nation.\\n\\n**II. Key Drivers of AI Growth in India**\\n\\nSeveral factors are converging to propel India into the forefront of the global AI revolution:\\n\\n*   **A. Government Initiatives & Policies:** The Indian government recognizes AI's transformative potential and has launched numerous initiatives to foster its growth. NITI Aayog's National Strategy for Artificial Intelligence outlines a comprehensive roadmap for AI adoption across various sectors. Specific AI missions, coupled with substantial funding programs, aim to boost research and development. The ongoing deliberations surrounding the Data Protection Bill will play a crucial role in shaping the regulatory landscape for AI development, balancing innovation with individual privacy rights. The government also actively supports AI research through grants, collaborations, and the establishment of centers of excellence.\\n*   **B. Thriving Tech Talent Pool:** India boasts a vast pool of STEM graduates and engineers, making it a fertile ground for AI talent. The number of AI-focused courses and training programs is rapidly increasing, both in academic institutions and through online platforms. Moreover, a growing number of global tech companies are establishing AI research and development centers in India, further contributing to the expertise available. The Indian diaspora, particularly those working in AI-related fields abroad, also plays a vital role in contributing knowledge and expertise back to the country.\\n*   **C. Data Availability & Digital Infrastructure:** India's massive population and increasing internet penetration generate a wealth of data, a crucial ingredient for training AI models. The growth of cloud computing and data storage infrastructure provides the necessary resources for managing and processing this data. The rollout of 5G networks promises to further enhance connectivity and enable real-time data analysis, essential for many AI applications. However, challenges remain regarding data quality, accessibility, and the need for robust data privacy frameworks to ensure responsible data utilization.\\n*   **D. Addressing Societal Challenges:** AI offers the potential to address some of India's most pressing societal challenges. From improving healthcare access and affordability in remote areas to enhancing agricultural productivity and ensuring food security, AI is being explored as a powerful tool for positive change. AI-powered solutions are also being developed for smart cities, infrastructure management, and disaster response, promising to improve the quality of life for millions of Indians.\\n\\n**III. AI Applications Across Key Sectors in India**\\n\\nThe impact of AI is already being felt across numerous sectors in India:\\n\\n*   **A. Healthcare:** AI is revolutionizing healthcare with AI-powered diagnostics tools that can detect diseases like cancer at an early stage. Personalized treatment plans based on individual patient data are becoming increasingly common. AI is also accelerating drug discovery and development, leading to faster and more effective treatments. Remote patient monitoring and telehealth solutions, powered by AI, are expanding access to healthcare in underserved communities. For example, companies are using AI to analyze medical images for faster and more accurate diagnoses.\\n*   **B. Agriculture:** Precision farming techniques utilizing AI-powered sensors and analytics are helping farmers optimize irrigation, fertilization, and pest control, leading to increased yields and reduced resource consumption. AI algorithms are also being used to predict crop yields and detect diseases early, allowing farmers to take proactive measures. Furthermore, AI is improving market access and price forecasting for farmers, enabling them to make informed decisions and maximize their profits.\\n*   **C. Finance:** AI is transforming the financial sector with AI-powered fraud detection systems that can identify and prevent fraudulent transactions in real-time. Personalized financial advice and robo-advisors are making financial planning more accessible to a wider range of individuals. Automated customer service and chatbots are improving customer satisfaction and reducing operational costs. AI is also being used to assess risk and make lending decisions more efficiently.\\n*   **D. Manufacturing:** Predictive maintenance systems powered by AI are helping manufacturers minimize downtime and optimize production processes. Robotics and automation are increasing efficiency and productivity in manufacturing plants. AI is also being used for quality control and defect detection, ensuring higher product standards. Furthermore, AI is optimizing supply chain management and logistics, reducing costs and improving delivery times.\\n*   **E. Education:** Personalized learning platforms and adaptive assessments are tailoring education to individual student needs, improving learning outcomes. AI-powered tutoring and feedback systems are providing students with personalized support and guidance. Automated grading and administrative tasks are freeing up teachers' time, allowing them to focus on more engaging and impactful teaching methods. Accessibility solutions powered by AI are also helping students with disabilities access education more easily.\\n\\n**IV. Challenges and Concerns**\\n\\nDespite the immense potential of AI, India faces several challenges and concerns:\\n\\n*   **A. Ethical Considerations:** Bias in AI algorithms, arising from biased training data, can perpetuate and amplify existing societal inequalities, leading to discriminatory outcomes. Data privacy and security are paramount, requiring robust safeguards to protect sensitive information. Transparency and explainability of AI systems are crucial for building trust and ensuring accountability. Clear ethical guidelines and regulations are needed to govern the development and deployment of AI responsibly.\\n*   **B. Skill Gap and Talent Shortage:** The demand for skilled AI professionals far exceeds the current supply in India. Addressing this skill gap requires significant investment in reskilling and upskilling the workforce. Attracting and retaining top AI talent in India is also crucial, requiring competitive salaries, challenging opportunities, and a supportive research environment. Close collaboration between academia and industry is essential for aligning education with industry needs.\\n*   **C. Infrastructure Limitations:** Uneven access to internet and computing resources, particularly in rural areas, limits the reach and impact of AI. Robust data infrastructure and cybersecurity measures are essential for protecting data and ensuring the reliable operation of AI systems. Addressing the digital divide and ensuring equitable access to AI benefits is crucial for preventing further marginalization of vulnerable populations.\\n*   **D. Job Displacement Concerns:** The potential for automation to displace jobs in certain sectors is a legitimate concern. Proactive measures are needed to mitigate job losses and create new opportunities, such as investing in education and training programs to prepare the workforce for the jobs of the future. Focus should be placed on augmenting human capabilities with AI, rather than simply replacing them.\\n\\n**V. The Future of AI in India**\\n\\n*   **A. Potential for Growth and Innovation:** India has the potential to become a global AI hub, driven by its large talent pool, growing digital infrastructure, and supportive government policies. Emerging trends in AI research and development, such as explainable AI (XAI) and federated learning, are paving the way for more responsible and ethical AI applications. Opportunities abound for startups and entrepreneurs in the AI space, particularly in areas such as healthcare, agriculture, and education.\\n*   **B. Impact on Society and Economy:** AI is poised to have a transformative impact on various sectors of the Indian economy, driving economic growth and improving productivity. AI can play a critical role in addressing societal challenges such as poverty, inequality, and climate change, ultimately improving the quality of life for all Indians.\\n*   **C. Call to Action:** It is imperative that individuals, businesses, and policymakers alike learn more about AI and its potential. We must promote responsible and ethical AI development and deployment, prioritizing fairness, transparency, and accountability. Collaboration and innovation are key to unlocking the full potential of AI and ensuring that it benefits all of society.\\n\\n**VI. Conclusion (Recap & Final Thoughts)**\\n\\nIndia is undeniably experiencing a rapid rise in AI adoption, fueled by government support, a burgeoning tech talent pool, and the compelling potential to address pressing societal challenges. While significant hurdles remain in ensuring equitable access, ethical deployment, and responsible development, the potential benefits of AI for India are immense.\\n\\nThe rise of AI in India presents both immense opportunities and significant challenges. Our ability to navigate these complexities will determine whether we can harness the full potential of AI to build a more inclusive, prosperous, and sustainable future. Let's work together to shape an AI-powered future that benefits all of India.\"}\n"
     ]
    }
   ],
   "source": [
    "intial_state = {'title': 'Rise of AI in India'}\n",
    "\n",
    "final_state = workflow.invoke(intial_state)\n",
    "\n",
    "print(final_state)"
   ]
  },
  {
   "cell_type": "code",
   "execution_count": 20,
   "id": "9d26f321",
   "metadata": {},
   "outputs": [
    {
     "name": "stdout",
     "output_type": "stream",
     "text": [
      "## Blog Outline: Rise of AI in India\n",
      "\n",
      "**I. Introduction (Hook & Context - ~150 words)**\n",
      "\n",
      "   *   **A. Hook:** Start with a compelling statistic, anecdote, or question that grabs the reader's attention.  Examples:\n",
      "        *   \"India is poised to become a global AI powerhouse, but are we ready?\"\n",
      "        *   \"Imagine a future where AI-powered solutions revolutionize Indian agriculture, healthcare, and education. That future is closer than you think.\"\n",
      "        *   \"By 2030, AI could contribute X% to India's GDP.  But what are the key drivers and challenges?\"\n",
      "   *   **B. Briefly Define AI:**  A simple and accessible definition of Artificial Intelligence, avoiding technical jargon.\n",
      "   *   **C. Thesis Statement:** Clearly state the blog's main argument.  Example: \"India is experiencing a rapid rise in AI adoption, driven by a confluence of factors including government initiatives, a burgeoning tech talent pool, and the potential to address pressing societal challenges, but significant hurdles remain in ensuring equitable access and responsible deployment.\"\n",
      "   *   **D. Blog Overview:** Briefly outline the topics that will be covered in the blog post.\n",
      "\n",
      "**II. Key Drivers of AI Growth in India (~300 words)**\n",
      "\n",
      "   *   **A. Government Initiatives & Policies:**\n",
      "        *   National Strategy for Artificial Intelligence (NITI Aayog's approach)\n",
      "        *   AI missions and funding programs\n",
      "        *   Data protection bill and its implications for AI development\n",
      "        *   Government support for AI research and development\n",
      "   *   **B. Thriving Tech Talent Pool:**\n",
      "        *   Abundance of STEM graduates and engineers\n",
      "        *   Growing number of AI-focused courses and training programs\n",
      "        *   Increasing presence of global tech companies and their AI initiatives in India\n",
      "        *   Role of Indian diaspora in contributing to AI expertise\n",
      "   *   **C. Data Availability & Digital Infrastructure:**\n",
      "        *   Massive data generation due to India's large population and increasing internet penetration\n",
      "        *   Growth of cloud computing and data storage infrastructure\n",
      "        *   Development of 5G networks and improved connectivity\n",
      "        *   Challenges related to data quality, accessibility, and privacy\n",
      "   *   **D. Addressing Societal Challenges:**\n",
      "        *   AI's potential to improve healthcare access and affordability\n",
      "        *   Applications of AI in agriculture for increased productivity and sustainability\n",
      "        *   Use of AI in education to personalize learning and improve outcomes\n",
      "        *   AI-powered solutions for smart cities and infrastructure management\n",
      "\n",
      "**III. AI Applications Across Key Sectors in India (~400 words)**\n",
      "\n",
      "   *   **A. Healthcare:**\n",
      "        *   AI-powered diagnostics and personalized treatment plans\n",
      "        *   Drug discovery and development using AI\n",
      "        *   Remote patient monitoring and telehealth solutions\n",
      "        *   Examples of successful AI implementations in Indian healthcare\n",
      "   *   **B. Agriculture:**\n",
      "        *   Precision farming using AI-powered sensors and analytics\n",
      "        *   Crop yield prediction and disease detection\n",
      "        *   AI-driven irrigation and water management\n",
      "        *   Market access and price forecasting for farmers\n",
      "   *   **C. Finance:**\n",
      "        *   AI-powered fraud detection and risk management\n",
      "        *   Personalized financial advice and robo-advisors\n",
      "        *   Automated customer service and chatbots\n",
      "        *   AI in banking and insurance sectors\n",
      "   *   **D. Manufacturing:**\n",
      "        *   Predictive maintenance and process optimization\n",
      "        *   Robotics and automation in manufacturing plants\n",
      "        *   Quality control and defect detection using AI\n",
      "        *   Supply chain management and logistics optimization\n",
      "   *   **E. Education:**\n",
      "        *   Personalized learning platforms and adaptive assessments\n",
      "        *   AI-powered tutoring and feedback systems\n",
      "        *   Automated grading and administrative tasks\n",
      "        *   Accessibility solutions for students with disabilities\n",
      "\n",
      "**IV. Challenges and Concerns (~300 words)**\n",
      "\n",
      "   *   **A. Ethical Considerations:**\n",
      "        *   Bias in AI algorithms and potential for discrimination\n",
      "        *   Data privacy and security concerns\n",
      "        *   Transparency and explainability of AI systems\n",
      "        *   Need for ethical guidelines and regulations\n",
      "   *   **B. Skill Gap and Talent Shortage:**\n",
      "        *   Demand for skilled AI professionals exceeding supply\n",
      "        *   Need for reskilling and upskilling the workforce\n",
      "        *   Attracting and retaining top AI talent in India\n",
      "        *   Importance of collaboration between academia and industry\n",
      "   *   **C. Infrastructure Limitations:**\n",
      "        *   Uneven access to internet and computing resources\n",
      "        *   Need for robust data infrastructure and cybersecurity\n",
      "        *   Addressing digital divide and ensuring equitable access to AI benefits\n",
      "   *   **D. Job Displacement Concerns:**\n",
      "        *   Potential for automation to displace jobs in certain sectors\n",
      "        *   Need for proactive measures to mitigate job losses and create new opportunities\n",
      "        *   Investing in education and training programs to prepare the workforce for the future\n",
      "\n",
      "**V. The Future of AI in India (~250 words)**\n",
      "\n",
      "   *   **A. Potential for Growth and Innovation:**\n",
      "        *   India's potential to become a global AI hub\n",
      "        *   Emerging trends in AI research and development\n",
      "        *   Opportunities for startups and entrepreneurs in the AI space\n",
      "   *   **B. Impact on Society and Economy:**\n",
      "        *   Transformative impact of AI on various sectors\n",
      "        *   Contribution of AI to India's economic growth and development\n",
      "        *   Role of AI in addressing societal challenges and improving quality of life\n",
      "   *   **C. Call to Action:**\n",
      "        *   Encourage readers to learn more about AI and its potential\n",
      "        *   Promote responsible and ethical AI development and deployment\n",
      "        *   Emphasize the importance of collaboration and innovation in the AI ecosystem\n",
      "\n",
      "**VI. Conclusion (Recap & Final Thoughts - ~100 words)**\n",
      "\n",
      "   *   **A. Summarize Key Points:** Briefly reiterate the main arguments of the blog post.\n",
      "   *   **B. Reinforce the Thesis Statement:** Re-emphasize the importance of AI in India's future.\n",
      "   *   **C. Leave the Reader with a Thought-Provoking Statement:** End with a forward-looking statement that encourages further discussion and exploration. Example: \"The rise of AI in India presents both immense opportunities and significant challenges.  Our ability to navigate these complexities will determine whether we can harness the full potential of AI to build a more inclusive, prosperous, and sustainable future.\"\n",
      "\n",
      "**VII. Optional Elements:**\n",
      "\n",
      "*   **Images/Videos:** Incorporate relevant visuals to enhance engagement.\n",
      "*   **Infographics:**  Present data and statistics in an easy-to-understand format.\n",
      "*   **Links to Resources:** Provide links to relevant articles, reports, and websites.\n",
      "*   **Call to Action (within the blog):**  Encourage readers to subscribe, share, or comment.\n",
      "*   **Expert Quotes (if available):** Add credibility and insights from industry leaders.\n",
      "\n",
      "This outline provides a solid framework for writing a comprehensive and engaging blog post about the rise of AI in India. Remember to adapt it to your specific audience and writing style. Good luck!\n"
     ]
    }
   ],
   "source": [
    "print(final_state['outline'])"
   ]
  },
  {
   "cell_type": "code",
   "execution_count": 21,
   "id": "84cf6163",
   "metadata": {},
   "outputs": [
    {
     "name": "stdout",
     "output_type": "stream",
     "text": [
      "## The Rise of AI in India: A Nation Poised for Transformation\n",
      "\n",
      "**I. Introduction (Hook & Context)**\n",
      "\n",
      "Imagine a future where AI-powered robots assist surgeons in complex operations in rural India, or where personalized learning platforms cater to each student's unique needs, regardless of their location or socioeconomic background. This isn't a scene from a science fiction movie; it's a glimpse into the potential future being shaped by the rapid rise of Artificial Intelligence (AI) in India. By 2035, AI is projected to add a staggering $967 billion to India's GDP. But are we truly prepared to harness this transformative technology responsibly and equitably?\n",
      "\n",
      "Artificial Intelligence, in its simplest form, refers to the ability of machines to perform tasks that typically require human intelligence, such as learning, problem-solving, and decision-making. This blog explores the factors driving the burgeoning AI landscape in India, from government initiatives and a talented workforce to the vast potential for addressing societal challenges. However, it also acknowledges the significant hurdles that remain in ensuring equitable access, ethical deployment, and responsible development of AI.\n",
      "\n",
      "This blog post will delve into the key drivers fueling AI growth in India, explore its applications across various sectors, address the ethical and societal concerns, and offer a glimpse into the future of AI in the nation.\n",
      "\n",
      "**II. Key Drivers of AI Growth in India**\n",
      "\n",
      "Several factors are converging to propel India into the forefront of the global AI revolution:\n",
      "\n",
      "*   **A. Government Initiatives & Policies:** The Indian government recognizes AI's transformative potential and has launched numerous initiatives to foster its growth. NITI Aayog's National Strategy for Artificial Intelligence outlines a comprehensive roadmap for AI adoption across various sectors. Specific AI missions, coupled with substantial funding programs, aim to boost research and development. The ongoing deliberations surrounding the Data Protection Bill will play a crucial role in shaping the regulatory landscape for AI development, balancing innovation with individual privacy rights. The government also actively supports AI research through grants, collaborations, and the establishment of centers of excellence.\n",
      "*   **B. Thriving Tech Talent Pool:** India boasts a vast pool of STEM graduates and engineers, making it a fertile ground for AI talent. The number of AI-focused courses and training programs is rapidly increasing, both in academic institutions and through online platforms. Moreover, a growing number of global tech companies are establishing AI research and development centers in India, further contributing to the expertise available. The Indian diaspora, particularly those working in AI-related fields abroad, also plays a vital role in contributing knowledge and expertise back to the country.\n",
      "*   **C. Data Availability & Digital Infrastructure:** India's massive population and increasing internet penetration generate a wealth of data, a crucial ingredient for training AI models. The growth of cloud computing and data storage infrastructure provides the necessary resources for managing and processing this data. The rollout of 5G networks promises to further enhance connectivity and enable real-time data analysis, essential for many AI applications. However, challenges remain regarding data quality, accessibility, and the need for robust data privacy frameworks to ensure responsible data utilization.\n",
      "*   **D. Addressing Societal Challenges:** AI offers the potential to address some of India's most pressing societal challenges. From improving healthcare access and affordability in remote areas to enhancing agricultural productivity and ensuring food security, AI is being explored as a powerful tool for positive change. AI-powered solutions are also being developed for smart cities, infrastructure management, and disaster response, promising to improve the quality of life for millions of Indians.\n",
      "\n",
      "**III. AI Applications Across Key Sectors in India**\n",
      "\n",
      "The impact of AI is already being felt across numerous sectors in India:\n",
      "\n",
      "*   **A. Healthcare:** AI is revolutionizing healthcare with AI-powered diagnostics tools that can detect diseases like cancer at an early stage. Personalized treatment plans based on individual patient data are becoming increasingly common. AI is also accelerating drug discovery and development, leading to faster and more effective treatments. Remote patient monitoring and telehealth solutions, powered by AI, are expanding access to healthcare in underserved communities. For example, companies are using AI to analyze medical images for faster and more accurate diagnoses.\n",
      "*   **B. Agriculture:** Precision farming techniques utilizing AI-powered sensors and analytics are helping farmers optimize irrigation, fertilization, and pest control, leading to increased yields and reduced resource consumption. AI algorithms are also being used to predict crop yields and detect diseases early, allowing farmers to take proactive measures. Furthermore, AI is improving market access and price forecasting for farmers, enabling them to make informed decisions and maximize their profits.\n",
      "*   **C. Finance:** AI is transforming the financial sector with AI-powered fraud detection systems that can identify and prevent fraudulent transactions in real-time. Personalized financial advice and robo-advisors are making financial planning more accessible to a wider range of individuals. Automated customer service and chatbots are improving customer satisfaction and reducing operational costs. AI is also being used to assess risk and make lending decisions more efficiently.\n",
      "*   **D. Manufacturing:** Predictive maintenance systems powered by AI are helping manufacturers minimize downtime and optimize production processes. Robotics and automation are increasing efficiency and productivity in manufacturing plants. AI is also being used for quality control and defect detection, ensuring higher product standards. Furthermore, AI is optimizing supply chain management and logistics, reducing costs and improving delivery times.\n",
      "*   **E. Education:** Personalized learning platforms and adaptive assessments are tailoring education to individual student needs, improving learning outcomes. AI-powered tutoring and feedback systems are providing students with personalized support and guidance. Automated grading and administrative tasks are freeing up teachers' time, allowing them to focus on more engaging and impactful teaching methods. Accessibility solutions powered by AI are also helping students with disabilities access education more easily.\n",
      "\n",
      "**IV. Challenges and Concerns**\n",
      "\n",
      "Despite the immense potential of AI, India faces several challenges and concerns:\n",
      "\n",
      "*   **A. Ethical Considerations:** Bias in AI algorithms, arising from biased training data, can perpetuate and amplify existing societal inequalities, leading to discriminatory outcomes. Data privacy and security are paramount, requiring robust safeguards to protect sensitive information. Transparency and explainability of AI systems are crucial for building trust and ensuring accountability. Clear ethical guidelines and regulations are needed to govern the development and deployment of AI responsibly.\n",
      "*   **B. Skill Gap and Talent Shortage:** The demand for skilled AI professionals far exceeds the current supply in India. Addressing this skill gap requires significant investment in reskilling and upskilling the workforce. Attracting and retaining top AI talent in India is also crucial, requiring competitive salaries, challenging opportunities, and a supportive research environment. Close collaboration between academia and industry is essential for aligning education with industry needs.\n",
      "*   **C. Infrastructure Limitations:** Uneven access to internet and computing resources, particularly in rural areas, limits the reach and impact of AI. Robust data infrastructure and cybersecurity measures are essential for protecting data and ensuring the reliable operation of AI systems. Addressing the digital divide and ensuring equitable access to AI benefits is crucial for preventing further marginalization of vulnerable populations.\n",
      "*   **D. Job Displacement Concerns:** The potential for automation to displace jobs in certain sectors is a legitimate concern. Proactive measures are needed to mitigate job losses and create new opportunities, such as investing in education and training programs to prepare the workforce for the jobs of the future. Focus should be placed on augmenting human capabilities with AI, rather than simply replacing them.\n",
      "\n",
      "**V. The Future of AI in India**\n",
      "\n",
      "*   **A. Potential for Growth and Innovation:** India has the potential to become a global AI hub, driven by its large talent pool, growing digital infrastructure, and supportive government policies. Emerging trends in AI research and development, such as explainable AI (XAI) and federated learning, are paving the way for more responsible and ethical AI applications. Opportunities abound for startups and entrepreneurs in the AI space, particularly in areas such as healthcare, agriculture, and education.\n",
      "*   **B. Impact on Society and Economy:** AI is poised to have a transformative impact on various sectors of the Indian economy, driving economic growth and improving productivity. AI can play a critical role in addressing societal challenges such as poverty, inequality, and climate change, ultimately improving the quality of life for all Indians.\n",
      "*   **C. Call to Action:** It is imperative that individuals, businesses, and policymakers alike learn more about AI and its potential. We must promote responsible and ethical AI development and deployment, prioritizing fairness, transparency, and accountability. Collaboration and innovation are key to unlocking the full potential of AI and ensuring that it benefits all of society.\n",
      "\n",
      "**VI. Conclusion (Recap & Final Thoughts)**\n",
      "\n",
      "India is undeniably experiencing a rapid rise in AI adoption, fueled by government support, a burgeoning tech talent pool, and the compelling potential to address pressing societal challenges. While significant hurdles remain in ensuring equitable access, ethical deployment, and responsible development, the potential benefits of AI for India are immense.\n",
      "\n",
      "The rise of AI in India presents both immense opportunities and significant challenges. Our ability to navigate these complexities will determine whether we can harness the full potential of AI to build a more inclusive, prosperous, and sustainable future. Let's work together to shape an AI-powered future that benefits all of India.\n"
     ]
    }
   ],
   "source": [
    "print(final_state['content'])"
   ]
  },
  {
   "cell_type": "code",
   "execution_count": 22,
   "id": "589eef2c",
   "metadata": {},
   "outputs": [
    {
     "data": {
      "image/png": "[encoded data removed]",
      "text/plain": [
       "<IPython.core.display.Image object>"
      ]
     },
     "execution_count": 22,
     "metadata": {},
     "output_type": "execute_result"
    }
   ],
   "source": [
    "from IPython.display import Image\n",
    "Image(workflow.get_graph().draw_mermaid_png())"
   ]
  },
  {
   "cell_type": "code",
   "execution_count": null,
   "id": "f8b73d3b",
   "metadata": {},
   "outputs": [],
   "source": []
  }
 ],
 "metadata": {
  "kernelspec": {
   "display_name": ".venv (3.11.0)",
   "language": "python",
   "name": "python3"
  },
  "language_info": {
   "codemirror_mode": {
    "name": "ipython",
    "version": 3
   },
   "file_extension": ".py",
   "mimetype": "text/x-python",
   "name": "python",
   "nbconvert_exporter": "python",
   "pygments_lexer": "ipython3",
   "version": "3.11.0"
  }
 },
 "nbformat": 4,
 "nbformat_minor": 5
}
